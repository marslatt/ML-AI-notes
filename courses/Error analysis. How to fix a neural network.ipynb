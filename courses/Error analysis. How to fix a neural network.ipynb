{
 "cells": [
  {
   "cell_type": "markdown",
   "id": "f9e20c22-c9ab-482f-bb84-0385ec54ee92",
   "metadata": {},
   "source": [
    "#### Error analysis\n",
    "\n",
    "* Do research i.e. manually examine, count, and categorize your missclassified samples, based on common traits (for example: different types of spam emails).\n",
    "* Invest most efforts for improvements in the most common types.\n",
    "  * $m_{cv}$ = 500 examples in the cross validation set\n",
    "  * 100 missclassified: 5 pharmaceutical | 3 misspellings | 7 spam header routing issues | 21 stealing password attempts"
   ]
  },
  {
   "cell_type": "code",
   "execution_count": null,
   "id": "995751d6-d30b-479e-99c0-63ac4c040119",
   "metadata": {},
   "outputs": [],
   "source": []
  }
 ],
 "metadata": {
  "kernelspec": {
   "display_name": "Python 3 (ipykernel)",
   "language": "python",
   "name": "python3"
  },
  "language_info": {
   "codemirror_mode": {
    "name": "ipython",
    "version": 3
   },
   "file_extension": ".py",
   "mimetype": "text/x-python",
   "name": "python",
   "nbconvert_exporter": "python",
   "pygments_lexer": "ipython3",
   "version": "3.10.0"
  }
 },
 "nbformat": 4,
 "nbformat_minor": 5
}
