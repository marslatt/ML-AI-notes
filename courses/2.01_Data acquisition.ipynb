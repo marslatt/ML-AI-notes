{
 "cells": [
  {
   "cell_type": "markdown",
   "id": "aa057e17",
   "metadata": {},
   "source": [
    "## Data type in pandas\n",
    "\n",
    " > <b>DataFrame</b>: Two-dimensional, size-mutable, potentially heterogeneous tabular data. Contains labeled axes (rows and columns). Arithmetic operations align on both row and column labels. Can be thought of as a dict-like container for Series objects. The primary pandas data structure.\n",
    "* May have many dimensions\n",
    "* We usually call this a \"dataset\"\n",
    "* Rows and columns are indexed, numerical indices starting at 0 by default\n",
    "* Columns may have names (taken from the first line in the .csv file)\n",
    "* Each column has a fixed data type (Python will try to infer the best type according to the data)\n",
    "* May be initialized with a dictionary ```<class 'dict'>```\n",
    "\n",
    "<br>\n",
    "\n",
    "> <b>Series</b>: One-dimensional ndarray with axis labels (including time series).\n",
    "* Usually represents a column of a table\n",
    "* May contain only 1 type of data"
   ]
  },
  {
   "cell_type": "markdown",
   "id": "8b99a860",
   "metadata": {},
   "source": [
    "## Reading data sources\n",
    "\n",
    " \n",
    "* In order to work with the data, it must be represented in tabular form \n",
    "* * Sometimes our data is tabular – we just need to read it\n",
    "* * In other cases, we need to create a tabular structure from the raw data\n",
    "* Structured vs. Unstructured data \n",
    "* * Unstructured data: data that doesn't have a model\n",
    "* * Examples for unstructured data: Images, plain text, audio, web pages\n",
    " \n",
    "#### Reading data from: \n",
    "* Tables in a text format such as .csv:  ```pd.read_csv(\"data.csv\")``` \n",
    "* Spreadsheets (such as Excel or Google Sheets):  ```pd.read_table()``` or  ```pd.read_excel()``` \n",
    "* Web services:  ``` pd.read_json()```\n",
    "* SQL: ```conda install pyodbc``` \n",
    " ```python\n",
    "import pyodbc\n",
    "conn = pyodbc.connect(\"DRIVER={SQL Server};SERVER=...;DATABASE=...;Trusted_Connection=true\")\n",
    "customer_info = pd.read_sql(\"select * from Sales.Customer\",conn)  \n",
    "```\n",
    "\n",
    "#### Exploring dataframe: \n",
    "* Column names: ```dataframe.columns ```\n",
    "* Column types: ```dataframe.dtypes```\n",
    "* Index values: ```dataframe.index ```  \n",
    "* Dimensions: ```dataframe.shape``` \n",
    "* * Format: ```(rows, columns)```  \n",
    "* Show the first few rows: ```dataframe.head()```\n",
    "* Return unique values of column: ```dataframe[\"column_name\"].unique()``` \n",
    "* Group DataFrame by column, applying a function, and combining the results: ```dataframe.groupby(\"column_name\").mean()``` \n",
    "* Access group of values using labels: ```dataframe.loc[\"column_name\"]``` \n",
    "* Access group of rows and columns by integer position(s): ```dataframe.iloc[i]```\n",
    "* Access a single value for a row/column label pair: ```dataframe.at[row, \"column_name\"]```\n",
    "\n",
    "\n",
    "#### Merging many data sources\n",
    "* Automate the process as much as possible\n",
    "* * From reading the raw data to getting the processed dataset\n",
    "* * If the dataset changes or updates, you'll just re-run your code\n",
    "* Document the process\n",
    "* Create as few datasets as possible\n",
    "* * I.e. merge many sources into one table if you can \n",
    "* Ensure the different sources are compatible and consistent\n",
    "* * If they aren't, process the raw data \n",
    "* * Most common example: Mismatched IDs\n",
    "* Make sure all column types are correct (```dataframe.dtypes```)\n",
    "* * Example: str type for a numeric column \n",
    "  \n",
    " "
   ]
  }
 ],
 "metadata": {
  "kernelspec": {
   "display_name": "Python 3 (ipykernel)",
   "language": "python",
   "name": "python3"
  },
  "language_info": {
   "codemirror_mode": {
    "name": "ipython",
    "version": 3
   },
   "file_extension": ".py",
   "mimetype": "text/x-python",
   "name": "python",
   "nbconvert_exporter": "python",
   "pygments_lexer": "ipython3",
   "version": "3.10.0"
  }
 },
 "nbformat": 4,
 "nbformat_minor": 5
}
