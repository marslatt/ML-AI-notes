{
 "cells": [
  {
   "cell_type": "markdown",
   "id": "05aba721",
   "metadata": {},
   "source": [
    "## NumPy \n",
    "\n",
    "NumPy (https://numpy.org/doc/stable) is a library that extends the base capabilities of Python to add a richer data set including more numeric types, vectors, matrices and matrix functions. NumPy and Python work together fairly seamlessly - Python arithmetic operators work on NumPy data types and many NumPy functions will accept Python data types.\n",
    "\n",
    "* NumPy basic datatype is an indexable, n-dimensional array, containing elements of the same type (check the type of data present with $dtype$)\n",
    "* Vector in this context represents ordered array of numbers (with # of elements reffered to as 'dimension' or 'rank').\n",
    "* Some NumPy routines for creating vectors take # of elements as arguments, others take a 'shape' tuple. \n",
    "* NumPy provides very complete set of indexing and slicing capabilities for accessing vector elements."
   ]
  },
  {
   "cell_type": "code",
   "execution_count": 150,
   "id": "ab9252ec",
   "metadata": {},
   "outputs": [
    {
     "name": "stdout",
     "output_type": "stream",
     "text": [
      "np.zeros(0) = [] (0,) float64 \n",
      "\n",
      "np.zeros((4,)) = [0. 0. 0. 0.] (4,) float64 \n",
      "\n",
      "np.random.random_sample((4,)) = [0.76850178 0.90838834 0.54804153 0.89855918] (4,) float64 \n",
      "\n",
      "np.random.rand(4) = [0.03513744 0.09212483 0.86121123 0.50516394] (4,) float64 \n",
      "\n",
      "np.arange(4.) = [0. 1. 2. 3.] (4,) float64 \n",
      "\n",
      "np.arange(0., 4, 1) = [0. 1. 2. 3.] (4,) float64 \n",
      "\n",
      "np.array([1, 2, 3, 4]) = [1 2 3 4] (4,) int32 \n",
      "\n",
      "np.array([1., 2., 3, 4]) = [1. 2. 3. 4.] (4,) float64 \n",
      "\n",
      "(24,)\n",
      "(2, 3, 4)\n",
      "(24,) \n",
      "\n",
      "c = [[[ 0  1  2  3]\n",
      "  [ 4  5  6  7]]\n",
      "\n",
      " [[ 8  9 10 11]\n",
      "  [12 13 14 15]]] \n",
      "\n",
      " np.sum(c) = 120 \n",
      " np.sum(c, axis=0) = [[ 8 10 12 14]\n",
      " [16 18 20 22]] \n",
      " np.sum(c, axis=1) = [[ 4  6  8 10]\n",
      " [20 22 24 26]] \n",
      " np.sum(c, axis=2) = [[ 6 22]\n",
      " [38 54]] \n",
      " np.mean(c) = 7.5 \n",
      " np.mean(c, axis=0) = [[ 4.  5.  6.  7.]\n",
      " [ 8.  9. 10. 11.]] \n",
      "\n"
     ]
    }
   ],
   "source": [
    "import numpy as np\n",
    "\n",
    "# NumPy routines, which allocate memory and fill arrays with values.\n",
    "# All examples have shape (4,) i.e. 1-D array with 4 elements for comparison purposes.\n",
    "\n",
    "v = np.zeros(0)\n",
    "print(\"np.zeros(0) =\", v, v.shape, v.dtype, \"\\n\")\n",
    "v = np.zeros((4,))\n",
    "print(\"np.zeros((4,)) =\", v, v.shape, v.dtype, \"\\n\")\n",
    "v = np.random.random_sample((4,))  # uniform distribution over [0, 1)\n",
    "print(\"np.random.random_sample((4,)) =\", v, v.shape, v.dtype, \"\\n\")    \n",
    "v = np.random.rand(4)  # uniform distribution over [0, 1)\n",
    "print(\"np.random.rand(4) =\", v, v.shape, v.dtype, \"\\n\")       \n",
    "v = np.arange(4.)  # evenly spaced values.\n",
    "print(\"np.arange(4.) =\", v, v.shape, v.dtype, \"\\n\")    \n",
    "v = np.arange(0., 4, 1)  # start [optional, default = 0], stop, step [optional, default = 1]  \n",
    "print(\"np.arange(0., 4, 1) =\", v, v.shape, v.dtype, \"\\n\")      \n",
    "v = np.array([1, 2, 3, 4])\n",
    "print(\"np.array([1, 2, 3, 4]) =\", v, v.shape, v.dtype, \"\\n\")     \n",
    "v = np.array([1., 2., 3, 4])  # start [optional, default = 0], stop, step [optional, default = 1],\n",
    "print(\"np.array([1., 2., 3, 4]) =\", v, v.shape, v.dtype, \"\\n\")     \n",
    "\n",
    "# numpy.reshape gives a new shape to an array without changing its data. Returns the original array (it's a view, not a copy).\n",
    "# The new shape as param should be compatible with the original shape.\n",
    "\n",
    "arr = np.arange(24)\n",
    "print(arr.shape)\n",
    "# One shape dimension can be -1. In this case, the value is inferred from the length of the array and remaining dimensions.\n",
    "arr = arr.reshape(2,3,-1)\n",
    "print(arr.shape)\n",
    "# Turn back to original 1-D shape\n",
    "arr = arr.reshape(-1)\n",
    "print(arr.shape, \"\\n\")\n",
    " \n",
    "# Axis specifies which direction to perform the operation along; Example: np.sum(a, axis=0) calculates the sum of each column.\n",
    "# The default, axis=None, will operate on all of the elements of the input array. \n",
    "# If axis is negative it counts from the last to the first axis. \n",
    "# If axis is a tuple of ints, a operation is performed on all of the axes specified in the tuple.\n",
    "\n",
    "c = np.arange(0,16,1).reshape(2,2,4)\n",
    "print(\"c =\", c, \"\\n\\n\",\n",
    "      \"np.sum(c) =\", np.sum(c), \"\\n\", # sum all elements \n",
    "      \"np.sum(c, axis=0) =\", np.sum(c, axis=0), \"\\n\",   \n",
    "      \"np.sum(c, axis=1) =\", np.sum(c, axis=1), \"\\n\",   \n",
    "      \"np.sum(c, axis=2) =\", np.sum(c, axis=2), \"\\n\",         \n",
    "      \"np.mean(c) =\", np.mean(c), \"\\n\", \n",
    "      \"np.mean(c, axis=0) =\", np.mean(c, axis=0), \"\\n\"\n",
    "     )\n"
   ]
  },
  {
   "cell_type": "markdown",
   "id": "243b6560",
   "metadata": {},
   "source": [
    "## Slicing\n",
    "\n",
    "Slicing creates an array of indices  using a set of three values (start:stop:step). A subset of values is also valid."
   ]
  },
  {
   "cell_type": "code",
   "execution_count": 160,
   "id": "c4018043",
   "metadata": {},
   "outputs": [
    {
     "name": "stdout",
     "output_type": "stream",
     "text": [
      "a = [0 1 2 3 4 5 6 7 8 9] \n",
      "\n",
      " a[2] = 2 \n",
      " a[-1] = 9 \n",
      " a[2:7:2] = [2 4 6] \n",
      " a[2:] = [2 3 4 5 6 7 8 9] \n",
      " a[:2] = [0 1] \n",
      " a[:] = [0 1 2 3 4 5 6 7 8 9] \n",
      "\n",
      "c = [[ 0  1  2  3  4  5  6  7  8  9]\n",
      " [10 11 12 13 14 15 16 17 18 19]] \n",
      "\n",
      " c[0, 2:7:1] = [2 3 4 5 6] \n",
      " c[:, 2:7:1] = [[ 2  3  4  5  6]\n",
      " [12 13 14 15 16]] \n",
      " c[:,:] = [[ 0  1  2  3  4  5  6  7  8  9]\n",
      " [10 11 12 13 14 15 16 17 18 19]] \n",
      " c[1,:] = [10 11 12 13 14 15 16 17 18 19] \n",
      " c[1] = [10 11 12 13 14 15 16 17 18 19] \n",
      " c[:,1] = [ 1 11] \n",
      "\n"
     ]
    }
   ],
   "source": [
    "# Indexing (refers 1 element by position) and slicing (refurs a subset based on indices) examples.\n",
    "# Index must be withing vector range.\n",
    "\n",
    "a = np.arange(10)\n",
    "print(\"a =\", a, \"\\n\\n\",\n",
    "      \"a[2] =\", a[2], \"\\n\", \n",
    "      \"a[-1] =\", a[-1], \"\\n\", # laste element\n",
    "      \"a[2:7:2] =\", a[2:7:2], \"\\n\", # stat:stop:step\n",
    "      \"a[2:] =\", a[2:], \"\\n\", # all elements index 2 and above\n",
    "      \"a[:2] =\", a[:2], \"\\n\", # all elements below index 2\n",
    "      \"a[:] =\", a[:], \"\\n\", # all elements \n",
    "     )\n",
    "\n",
    "# Create a shallow copy of an array (does not copy inner arrays)\n",
    "b = a[:]\n",
    "\n",
    "c = np.arange(20).reshape(-1,10)\n",
    "print(\"c =\", c, \"\\n\\n\",\n",
    "      \"c[0, 2:7:1] =\", c[0, 2:7:1], \"\\n\", # access 5 consecutive elements in row 0\n",
    "      \"c[:, 2:7:1] =\", c[:, 2:7:1], \"\\n\", # access 5 consecutive elements in two rows\n",
    "      \"c[:,:] =\", c[:,:], \"\\n\", # access all elements\n",
    "      \"c[1,:] =\", c[1,:], \"\\n\", # access all elements in row 1\n",
    "      \"c[1] =\", c[1], \"\\n\", # same as the above row\n",
    "      \"c[:,1] =\", c[:,1], \"\\n\", # access all elements in column 1\n",
    "     )\n"
   ]
  },
  {
   "cell_type": "markdown",
   "id": "cc89469a",
   "metadata": {},
   "source": [
    "## Vector operations\n",
    "\n",
    "* Vectorization is a technique used to improve the performance of Python code by eliminating the use of loops. This feature provides a large speed up as NumPy makes a better use of the available parallelism in the underlying hardware. GPU and moden CPU's implement Single Instruction, Multiple Data (SIMD) piplines, allowing multiple operation to be issued in parallel. This has proven to be critical in ML, where the datasets are often very large.\n",
    "* Most of NumPy arithmetic, logical and comparison operations apply to vectors as well and work emelement-wise (on an element-by-element basis). The requirement  for the vectors is to have the same shapes.\n",
    "* The dot product of two vectors returns a scalar value and is calculated as:  $x = \\sum_{i=0}^{n-1} a^{(i)}.b^{(i)}$"
   ]
  },
  {
   "cell_type": "code",
   "execution_count": 125,
   "id": "288f34b8",
   "metadata": {},
   "outputs": [
    {
     "name": "stdout",
     "output_type": "stream",
     "text": [
      "a = [0 1 2 3 4 5 6 7 8 9] \n",
      "\n",
      " -a = [ 0 -1 -2 -3 -4 -5 -6 -7 -8 -9] \n",
      " a**2 [ 0  1  4  9 16 25 36 49 64 81] \n",
      " a*2 = [ 0  2  4  6  8 10 12 14 16 18] \n",
      " a-2 = [-2 -1  0  1  2  3  4  5  6  7] \n",
      "\n",
      "b = [10 11 12 13 14 15 16 17 18 19] \n",
      "\n",
      " a + b = [10 12 14 16 18 20 22 24 26 28] \n",
      " a.dot(b) = 735 \n",
      " np.dot(a, b) = 735 \n",
      " np.outer(a, b) = [[  0   0   0   0   0   0   0   0   0   0]\n",
      " [ 10  11  12  13  14  15  16  17  18  19]\n",
      " [ 20  22  24  26  28  30  32  34  36  38]\n",
      " [ 30  33  36  39  42  45  48  51  54  57]\n",
      " [ 40  44  48  52  56  60  64  68  72  76]\n",
      " [ 50  55  60  65  70  75  80  85  90  95]\n",
      " [ 60  66  72  78  84  90  96 102 108 114]\n",
      " [ 70  77  84  91  98 105 112 119 126 133]\n",
      " [ 80  88  96 104 112 120 128 136 144 152]\n",
      " [ 90  99 108 117 126 135 144 153 162 171]] \n",
      " np.multiply(a, b) = [  0  11  24  39  56  75  96 119 144 171]\n"
     ]
    }
   ],
   "source": [
    "a = np.arange(10)\n",
    "print(\"a =\", a, \"\\n\\n\",\n",
    "      \"-a =\", -a, \"\\n\", \n",
    "      \"a**2\", a**2, \"\\n\",  \n",
    "      \"a*2 =\", a*2, \"\\n\",  \n",
    "      \"a-2 =\", a-2, \"\\n\", \n",
    "     )\n",
    "\n",
    "b = np.arange(10,20,1)\n",
    "print(\"b =\", b, \"\\n\\n\",\n",
    "      \"a + b =\", a + b, \"\\n\", \n",
    "      \"a.dot(b) =\", a.dot(b), \"\\n\",  # dot product of two vectors  \n",
    "      \"np.dot(a, b) =\", np.dot(a, b), \"\\n\",\n",
    "      \"np.outer(a, b) =\", np.outer(a, b), \"\\n\", # outer (tensor) product (all possible distinct pairs of elements from a and b)\n",
    "      \"np.multiply(a, b) =\", np.multiply(a, b)  # calculates the matrix product of two arrays: multiplication of \"row by column\"\n",
    "     )\n"
   ]
  },
  {
   "cell_type": "markdown",
   "id": "defe3788",
   "metadata": {},
   "source": [
    "## Example: vectorization vs for-loop"
   ]
  },
  {
   "cell_type": "code",
   "execution_count": 148,
   "id": "846f450f",
   "metadata": {},
   "outputs": [
    {
     "name": "stdout",
     "output_type": "stream",
     "text": [
      "Vectorized version duration for dot(a,b) = 249825.02337924892 : 1.0281 ms\n",
      "For-loop version duration for dot(a,b) = 249825.0233792488 : 211.9670 ms\n"
     ]
    }
   ],
   "source": [
    "import time\n",
    "\n",
    "np.random.seed(1)  # Reseed the singleton RandomState instance.\n",
    "size = 10**6  \n",
    "a = np.random.rand(size) # very large array\n",
    "b = np.random.rand(size)  \n",
    "\n",
    "start = time.time()\n",
    "result = np.dot(a,b)\n",
    "stop = time.time()\n",
    "print(f\"Vectorized version duration for dot(a,b) = {result} : {1000*(stop-start):.4f} ms\")\n",
    "\n",
    "start = time.time() \n",
    "result = np.sum( [a[i] * b[i] for i in range(a.shape[0])] )\n",
    "stop = time.time()\n",
    "print(f\"For-loop version duration for dot(a,b) = {result} : {1000*(stop-start):.4f} ms\")"
   ]
  },
  {
   "cell_type": "markdown",
   "id": "d5e1d1e1",
   "metadata": {},
   "source": [
    "## Broadcasting\n",
    "\n",
    "> The term broadcasting describes how NumPy treats arrays with different shapes during arithmetic operations. Subject to certain constraints, the smaller array (or scalar) is “broadcast” across the larger array so that they have compatible shapes. Broadcasting provides a means of vectorizing array operations so that looping occurs in C instead of Python. It does this without making needless copies of data and usually leads to efficient algorithm implementations. There are, however, cases where broadcasting is a bad idea because it leads to inefficient use of memory that slows computation. \n",
    "\n",
    "> If an array and a scalar are combined in an opration - the scalar is virtually \"stretched\" to match the shape of the array. \n",
    "\n",
    "> When operating on two arrays, NumPy compares their shapes element-wise. It starts with the trailing i.e. the rightmost dimension and works its way left. Two dimensions are compatible when: A) they are equal, or B) one of them is 1. When the trailing dimensions of the arrays are unequal, broadcasting fails because it is impossible to align the values in the rows of the 1st array with the elements of the 2nd arrays for element-by-element addition.\n",
    "\n",
    "> Input arrays do not need to have the same number of dimensions. The resulting array will have the same number of dimensions as the input array with the greatest number of dimensions, where the size of each dimension is the largest size of the corresponding dimension among the input arrays. Dimensions with size 1 are stretched or “copied” to match the other. Missing dimensions are also assumed to have size on1. \n",
    "\n",
    "> For example, if a.shape is (5,1), b.shape is (1,6), c.shape is (6,) and d.shape is () so that d is a scalar, then a, b, c, and d are all broadcastable to dimension (5,6); and\n"
   ]
  },
  {
   "cell_type": "code",
   "execution_count": 78,
   "id": "be01a249",
   "metadata": {},
   "outputs": [
    {
     "name": "stdout",
     "output_type": "stream",
     "text": [
      "(3,) * ()  =  (3,)\n",
      "(4, 1) * (3,)  =  (4, 3)\n",
      "(2, 1) * (2, 3)  =  (2, 3)\n",
      "(8, 1, 6, 1) * (7, 1, 5)  =  (8, 7, 6, 5)\n"
     ]
    }
   ],
   "source": [
    "a = np.array([1, 2, 3])\n",
    "b = np.int_(4)\n",
    "print(a.shape, \"*\", b.shape, \" = \", (a*b).shape)\n",
    "\n",
    "a = np.array([1, 2, 3, 4])\n",
    "b = np.array([1, 2, 3])\n",
    "#  operands could not be broadcast together with shapes (4,) (3,) \n",
    "#  print(a.shape, \"*\", b.shape, \" = \", (a*b).shape)\n",
    "anew = a[:, np.newaxis]\n",
    "print(anew.shape, \"*\", b.shape, \" = \", (anew*b).shape) \n",
    "\n",
    "a = np.array([[1], [1]])\n",
    "b = np.array([[7, 1, 5], [7, 1, 5]]) \n",
    "print(a.shape, \"*\", b.shape, \" = \", (a*b).shape)\n",
    "\n",
    "a = np.array([\n",
    "    [ [ [1],[2],[3],[4],[5],[6] ] ],\n",
    "    [ [ [1],[2],[3],[4],[5],[6] ] ], \n",
    "    [ [ [1],[2],[3],[4],[5],[6] ] ],\n",
    "    [ [ [1],[2],[3],[4],[5],[6] ] ], \n",
    "    [ [ [1],[2],[3],[4],[5],[6] ] ], \n",
    "    [ [ [1],[2],[3],[4],[5],[6] ] ], \n",
    "    [ [ [1],[2],[3],[4],[5],[6] ] ], \n",
    "    [ [ [1],[2],[3],[4],[5],[6] ] ]\n",
    "      ])\n",
    "b = np.array([\n",
    "    [ [1,2,3,4,5] ],\n",
    "    [ [1,2,3,4,5] ],\n",
    "    [ [1,2,3,4,5] ],\n",
    "    [ [1,2,3,4,5] ],\n",
    "    [ [1,2,3,4,5] ],\n",
    "    [ [1,2,3,4,5] ],\n",
    "    [ [1,2,3,4,5] ]\n",
    "      ])\n",
    "print(a.shape, \"*\", b.shape, \" = \", (a*b).shape)\n"
   ]
  }
 ],
 "metadata": {
  "kernelspec": {
   "display_name": "Python 3 (ipykernel)",
   "language": "python",
   "name": "python3"
  },
  "language_info": {
   "codemirror_mode": {
    "name": "ipython",
    "version": 3
   },
   "file_extension": ".py",
   "mimetype": "text/x-python",
   "name": "python",
   "nbconvert_exporter": "python",
   "pygments_lexer": "ipython3",
   "version": "3.9.7"
  }
 },
 "nbformat": 4,
 "nbformat_minor": 5
}
