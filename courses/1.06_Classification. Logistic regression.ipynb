{
 "cells": [
  {
   "cell_type": "markdown",
   "id": "0db23ed2",
   "metadata": {},
   "source": [
    "How to Do Classification with Scikit-Learn \n",
    "\n",
    "You can use scikit-learn to perform classification using any of its numerous classification algorithms (also known as classifiers), including: \n",
    "\n",
    "Decision Tree/Random Forest – the Decision Tree classifier has dataset attributes classed as nodes or branches in a tree. The Random Forest classifier is a meta-estimator that fits a forest of decision trees and uses averages to improve prediction accuracy.\n",
    "\n",
    "K-Nearest Neighbors (KNN) – a simple classification algorithm, where K refers to the square root of the number of training records.\n",
    "\n",
    "Linear Discriminant Analysis – estimates the probability of a new set of inputs for every class.\n",
    "\n",
    "Logistic Regression – a model with an input variable (x) and an output variable (y), which is a discrete value of either 1 (yes) or 0 (no).\n",
    "\n",
    "Naive Bayes – a family of classifiers based on a simple Bayesian model that is comparatively fast and accurate. Bayesian theory explores the relationship between probability and possibility.\n",
    "\n",
    "Support Vector Machines (SVMs) – a model with associated learning algorithms that analyze data for classification. Also known as Support-Vector Networks. \n"
   ]
  },
  {
   "cell_type": "code",
   "execution_count": null,
   "id": "b40cee20",
   "metadata": {},
   "outputs": [],
   "source": []
  }
 ],
 "metadata": {
  "kernelspec": {
   "display_name": "Python 3 (ipykernel)",
   "language": "python",
   "name": "python3"
  },
  "language_info": {
   "codemirror_mode": {
    "name": "ipython",
    "version": 3
   },
   "file_extension": ".py",
   "mimetype": "text/x-python",
   "name": "python",
   "nbconvert_exporter": "python",
   "pygments_lexer": "ipython3",
   "version": "3.9.7"
  }
 },
 "nbformat": 4,
 "nbformat_minor": 5
}
