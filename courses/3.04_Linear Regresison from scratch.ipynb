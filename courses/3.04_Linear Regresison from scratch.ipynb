{
 "cells": [
  {
   "cell_type": "markdown",
   "id": "07ddbdf1-6a69-4f03-9218-d09f297ef149",
   "metadata": {},
   "source": [
    "## Simple Linear Regression "
   ]
  },
  {
   "cell_type": "markdown",
   "id": "552a811a-d4b4-42d9-8a4e-afd97f015c8e",
   "metadata": {},
   "source": [
    "Suppose you are the CEO of a restaurant franchise and are considering different cities for opening a new outlet. The chain already has restaurants in various cities and you have data for profits and populations from the cities. \n",
    "You would like to use this data to help you identify which cities may potentially give youre business higer profits.\n",
    "The dataset contains two columns. The first one is the population of a city and the second one is the profit of a food restaurant in that city. A negative value for profit indicates a loss."
   ]
  },
  {
   "cell_type": "code",
   "execution_count": 1,
   "id": "404dd213-9470-4ea4-81a1-3db42e09c027",
   "metadata": {},
   "outputs": [],
   "source": [
    "import math\n",
    "import pandas as pd\n",
    "import numpy as np\n",
    "import matplotlib.pyplot as plt\n",
    "from sklearn.model_selection import train_test_split\n",
    "from sklearn.linear_model import LinearRegression"
   ]
  },
  {
   "cell_type": "markdown",
   "id": "10b237b2-3611-416d-9e57-2de59a8d62fd",
   "metadata": {},
   "source": [
    "#### Load the dataset"
   ]
  },
  {
   "cell_type": "code",
   "execution_count": 2,
   "id": "fc67d0d5-7ace-44af-aad3-6c9de272e962",
   "metadata": {},
   "outputs": [
    {
     "name": "stdout",
     "output_type": "stream",
     "text": [
      "Type and size of data:  <class 'pandas.core.frame.DataFrame'> (97, 2)\n"
     ]
    },
    {
     "data": {
      "text/html": [
       "<div>\n",
       "<style scoped>\n",
       "    .dataframe tbody tr th:only-of-type {\n",
       "        vertical-align: middle;\n",
       "    }\n",
       "\n",
       "    .dataframe tbody tr th {\n",
       "        vertical-align: top;\n",
       "    }\n",
       "\n",
       "    .dataframe thead th {\n",
       "        text-align: right;\n",
       "    }\n",
       "</style>\n",
       "<table border=\"1\" class=\"dataframe\">\n",
       "  <thead>\n",
       "    <tr style=\"text-align: right;\">\n",
       "      <th></th>\n",
       "      <th>Profits</th>\n",
       "      <th>Population per city</th>\n",
       "    </tr>\n",
       "  </thead>\n",
       "  <tbody>\n",
       "    <tr>\n",
       "      <th>0</th>\n",
       "      <td>6.1101</td>\n",
       "      <td>17.5920</td>\n",
       "    </tr>\n",
       "    <tr>\n",
       "      <th>1</th>\n",
       "      <td>5.5277</td>\n",
       "      <td>9.1302</td>\n",
       "    </tr>\n",
       "    <tr>\n",
       "      <th>2</th>\n",
       "      <td>8.5186</td>\n",
       "      <td>13.6620</td>\n",
       "    </tr>\n",
       "    <tr>\n",
       "      <th>3</th>\n",
       "      <td>7.0032</td>\n",
       "      <td>11.8540</td>\n",
       "    </tr>\n",
       "    <tr>\n",
       "      <th>4</th>\n",
       "      <td>5.8598</td>\n",
       "      <td>6.8233</td>\n",
       "    </tr>\n",
       "  </tbody>\n",
       "</table>\n",
       "</div>"
      ],
      "text/plain": [
       "   Profits  Population per city\n",
       "0   6.1101              17.5920\n",
       "1   5.5277               9.1302\n",
       "2   8.5186              13.6620\n",
       "3   7.0032              11.8540\n",
       "4   5.8598               6.8233"
      ]
     },
     "execution_count": 2,
     "metadata": {},
     "output_type": "execute_result"
    }
   ],
   "source": [
    "data = pd.read_csv(\"../data/3_04/data.csv\", header=None)   \n",
    "\n",
    "print(\"Type and size of data: \", type(data), data.shape) \n",
    "data.columns = [\"Profits\", \"Population per city\"]\n",
    "data.head(5) "
   ]
  },
  {
   "cell_type": "markdown",
   "id": "9b70a9fe-a7d1-4e99-a110-027ae8635d76",
   "metadata": {},
   "source": [
    "#### Subdivide the dataset to feature (x) and target (y) sets"
   ]
  },
  {
   "cell_type": "code",
   "execution_count": 40,
   "id": "663525ea-4249-4740-8159-38ad9204bb6c",
   "metadata": {},
   "outputs": [
    {
     "name": "stdout",
     "output_type": "stream",
     "text": [
      "Type and size of x:  <class 'numpy.ndarray'> (97,)\n",
      "Type and size of y:  <class 'numpy.ndarray'> (97,)\n"
     ]
    }
   ],
   "source": [
    "# loc gets rows/columns with particular labels. \n",
    "# iloc gets rows/columns at integer locations.\n",
    "\n",
    "x = np.array(data.iloc[:,0]) # city population\n",
    "y = np.array(data.iloc[:,1]) # average monthly profit \n",
    "\n",
    "print(\"Type and size of x: \", type(x), x.shape) \n",
    "print(\"Type and size of y: \", type(y), y.shape) "
   ]
  },
  {
   "cell_type": "markdown",
   "id": "03a3c8f7-7a93-4c7e-be61-1028d785846a",
   "metadata": {},
   "source": [
    "#### Visualize feature (x) and target (y) sets"
   ]
  },
  {
   "cell_type": "code",
   "execution_count": 41,
   "id": "59b900c4-d382-489e-9e8b-8fa336f09cb1",
   "metadata": {},
   "outputs": [
    {
     "data": {
      "image/png": "[encoded data removed]",
      "text/plain": [
       "<Figure size 640x480 with 1 Axes>"
      ]
     },
     "metadata": {},
     "output_type": "display_data"
    }
   ],
   "source": [
    "plt.scatter(x, y, marker='o', color='red')\n",
    "plt.title(\"Profits vs. Population per city\")\n",
    "plt.ylabel(\"Profit in $10000\")\n",
    "plt.xlabel(\"Population of city in 10000s\")\n",
    "plt.show()"
   ]
  },
  {
   "cell_type": "markdown",
   "id": "384ebf0b-de29-4aaa-abf5-1447eafc1c89",
   "metadata": {},
   "source": [
    "#### Subdivide x and y to train and test sets (80:20 split)"
   ]
  },
  {
   "cell_type": "code",
   "execution_count": 64,
   "id": "28e5800d-73c1-4d79-85b2-a678b49041c4",
   "metadata": {},
   "outputs": [
    {
     "name": "stdout",
     "output_type": "stream",
     "text": [
      "Type and size of x_train:  <class 'numpy.ndarray'> (77,)\n",
      "Type and size of x_test:  <class 'numpy.ndarray'> (20,)\n",
      "Type and size of y_train:  <class 'numpy.ndarray'> (77,)\n",
      "Type and size of y_test:  <class 'numpy.ndarray'> (20,)\n"
     ]
    }
   ],
   "source": [
    "x_train, x_test, y_train, y_test = train_test_split(x, y, test_size=0.2, random_state=42)\n",
    "\n",
    "print(\"Type and size of x_train: \", type(x_train), x_train.shape) \n",
    "print(\"Type and size of x_test: \", type(x_test), x_test.shape) \n",
    "print(\"Type and size of y_train: \", type(y_train), y_train.shape) \n",
    "print(\"Type and size of y_test: \", type(y_test), y_test.shape) "
   ]
  },
  {
   "cell_type": "markdown",
   "id": "e44e89d8-499e-447d-a7b7-4cb49a40428d",
   "metadata": {},
   "source": [
    "#### Compute the cost"
   ]
  },
  {
   "cell_type": "code",
   "execution_count": 43,
   "id": "d3978e68-bf73-403b-b759-346faba0bd4a",
   "metadata": {},
   "outputs": [],
   "source": [
    "def compute_cost(x, y, w, b):\n",
    "    '''\n",
    "    Computes the cost function for linear regression.\n",
    "    \n",
    "    Args:\n",
    "    x (ndarray): Shape (m,) Input to the model (Population of cities)\n",
    "    y (ndarray): Shape (m,) Label (Actual profits/cities)\n",
    "    w, b (scalar): Parameters of the model\n",
    "    \n",
    "    Returns:\n",
    "    total_cost (float): The cost of using w and b as parameters for the model to fit x and y.    \n",
    "    '''\n",
    "    \n",
    "    # number of training examples\n",
    "    m = x.shape[0]\n",
    "    \n",
    "    total_cost = 0\n",
    "    \n",
    "    for i in range(m):\n",
    "        total_cost += (w * x[i] + b - y[i])**2\n",
    "        \n",
    "    total_cost = total_cost / (2 * m)\n",
    "    \n",
    "    return total_cost"
   ]
  },
  {
   "cell_type": "code",
   "execution_count": 44,
   "id": "ab63fb66-b3c8-41f3-aa12-05890fe21d35",
   "metadata": {},
   "outputs": [
    {
     "data": {
      "text/plain": [
       "73.57745825791561"
      ]
     },
     "execution_count": 44,
     "metadata": {},
     "output_type": "execute_result"
    }
   ],
   "source": [
    "# Test\n",
    "init_w = 2\n",
    "init_b = 1\n",
    "compute_cost(x_train, y_train, init_w, init_b)"
   ]
  },
  {
   "cell_type": "markdown",
   "id": "e2dee40d-2e5f-4556-8ee6-1a41f3de330c",
   "metadata": {},
   "source": [
    "#### Compute the gradient "
   ]
  },
  {
   "cell_type": "code",
   "execution_count": 46,
   "id": "4561c49f-31b8-477a-8021-f4035dbdd601",
   "metadata": {},
   "outputs": [],
   "source": [
    "def compute_gradient(x, y, w, b):\n",
    "    '''\n",
    "    Computes the gradient for linear regression.\n",
    "    \n",
    "    Args:\n",
    "    x (ndarray): Shape (m,) Input to the model (Population of cities)\n",
    "    y (ndarray): Shape (m,) Label (Actual profits/cities)\n",
    "    w, b (scalar): Parameters of the model\n",
    "    \n",
    "    Returns:\n",
    "    dj_dw (scalar): The gradient of the cost with respect to w\n",
    "    fj_db (scalar): The gradient of the cost with respect to b    \n",
    "    '''\n",
    "    \n",
    "    m = x.shape[0] # same as len(x)\n",
    "    \n",
    "    dj_dw = 0\n",
    "    dj_db = 0\n",
    "    \n",
    "    for i in range(m):\n",
    "        diff = w * x[i] + b - y[i]\n",
    "        dj_dw += diff * x[i]\n",
    "        dj_db += diff\n",
    "        \n",
    "    dj_dw = dj_dw / m\n",
    "    dj_db = dj_db / m\n",
    "    \n",
    "    return dj_dw, dj_db "
   ]
  },
  {
   "cell_type": "code",
   "execution_count": 48,
   "id": "42cedc59-c4b2-4aa7-9a4f-cd0efbb5f9fe",
   "metadata": {},
   "outputs": [
    {
     "name": "stdout",
     "output_type": "stream",
     "text": [
      "Gradient at (w, b) = (0, 0):  -64.06819427714287 -5.746317402597402\n",
      "Gradient at (w, b) = (0, 0):  -46.505538297870125 -3.918592207792208\n"
     ]
    }
   ],
   "source": [
    "# Test\n",
    "init_w = 0\n",
    "init_b = 0\n",
    "dj_dw, dj_db = compute_gradient(x_train, y_train, init_w, init_b)\n",
    "print(\"Gradient at (w, b) = (0, 0): \", dj_dw, dj_db)\n",
    "\n",
    "init_w = 0.2\n",
    "init_b = 0.2\n",
    "dj_dw, dj_db = compute_gradient(x_train, y_train, init_w, init_b)\n",
    "print(\"Gradient at (w, b) = (0, 0): \", dj_dw, dj_db)"
   ]
  },
  {
   "cell_type": "markdown",
   "id": "5d513375-9161-4d11-85b1-1e6febdad39c",
   "metadata": {},
   "source": [
    "#### Compute batch gradient descent to learn (predict) parameters w and b \n",
    "* Compute predictions on all training samples\n",
    "* Compute the total cost (loss)\n",
    "* Compute the gradient (slope of cost function)\n",
    "* Update weights\n",
    "* Repeat for multiple iterations (epochs)"
   ]
  },
  {
   "cell_type": "code",
   "execution_count": 62,
   "id": "85632278-f4a3-4521-a66d-69fb4ae9335d",
   "metadata": {},
   "outputs": [],
   "source": [
    "def gradient_descent(x, y, w_in, b_in, cost_func, gradient_func, alpha, num_iters):\n",
    "    '''\n",
    "    Performs batch gradient descent to learn parameters w and b.  \n",
    "    Updates parameters by taking num_iters gradient steps with learning rate alpha.\n",
    "    \n",
    "    Args:\n",
    "    x (ndarray): Shape (m,) Input to the model (Population of cities)\n",
    "    y (ndarray): Shape (m,) Label (Actual profits/cities)\n",
    "    w_in, b_in (scalar): Initial values of parameters of the model\n",
    "    cost_func: function to compute cost\n",
    "    gradient_func: function to compute gradients\n",
    "    alpha (float): Learning rate\n",
    "    num_iters (int): number of iterations to run gradient descent\n",
    "    \n",
    "    Returns:\n",
    "    w (scalar): Shape (1,) Updated value of parameter w of the model after running gradient descent\n",
    "    b (scalar): Shape (1,) Updated value of parameter b of the model after running gradient descent \n",
    "    '''\n",
    " \n",
    "    w = w_in\n",
    "    b = b_in\n",
    "    \n",
    "    for i in range(num_iters):\n",
    "        dj_dw, dj_db = gradient_func(x, y, w, b)\n",
    "        \n",
    "        w = w - alpha * dj_dw\n",
    "        b = b - alpha * dj_db\n",
    "        \n",
    "        cost = cost_func(x, y, w, b)\n",
    "        \n",
    "        if i % math.ceil(num_iters / 10) == 0:\n",
    "            print(f\"Iteration {i}: Cost = {cost:.2f}, w = {w}, b = {b}\")\n",
    "                     \n",
    "    return w, b"
   ]
  },
  {
   "cell_type": "markdown",
   "id": "8d906024-7f14-476c-9740-317210203236",
   "metadata": {},
   "source": [
    "#### Train the model with the training set to predict parameters w and b"
   ]
  },
  {
   "cell_type": "code",
   "execution_count": 69,
   "id": "cce7e31c-5450-4724-90ce-d2cd2d5a3a1c",
   "metadata": {},
   "outputs": [
    {
     "name": "stdout",
     "output_type": "stream",
     "text": [
      "Iteration 0: Cost = 6.61, w = 0.6406819427714286, b = 0.05746317402597402\n",
      "Iteration 150: Cost = 4.87, w = 0.9046352040217162, b = -0.9918394967426467\n",
      "Iteration 300: Cost = 4.40, w = 0.9895014227600936, b = -1.8209133160975093\n",
      "Iteration 450: Cost = 4.12, w = 1.0555575179179164, b = -2.466227552059797\n",
      "Iteration 600: Cost = 3.95, w = 1.1069726483710678, b = -2.96851149037018\n",
      "Iteration 750: Cost = 3.84, w = 1.1469919022067452, b = -3.359466997973974\n",
      "Iteration 900: Cost = 3.78, w = 1.1781411118547434, b = -3.6637693999976046\n",
      "Iteration 1050: Cost = 3.74, w = 1.2023862730883579, b = -3.9006248735140336\n",
      "Iteration 1200: Cost = 3.72, w = 1.2212576296937645, b = -4.084982653674879\n",
      "Iteration 1350: Cost = 3.71, w = 1.2359462554651899, b = -4.228478561121064\n",
      "\n",
      "Params found by gradient descent: w = 1.247312104354713, b = -4.33951364538818\n"
     ]
    }
   ],
   "source": [
    "w_init = 0\n",
    "b_init = 0\n",
    "iters = 1500\n",
    "alpha = 0.01 # learning rate\n",
    "\n",
    "w, b = gradient_descent(x_train, y_train, w_init, b_init, compute_cost, compute_gradient, alpha, iters)\n",
    "print(f\"\\nParams found by gradient descent: w = {w}, b = {b}\")"
   ]
  },
  {
   "cell_type": "markdown",
   "id": "304640dd-9513-4c42-97a8-de8a71a07852",
   "metadata": {},
   "source": [
    "#### Test the predicted model"
   ]
  },
  {
   "cell_type": "code",
   "execution_count": 65,
   "id": "1516639b-0bb3-4be3-8a95-da44971f404f",
   "metadata": {},
   "outputs": [
    {
     "data": {
      "text/html": [
       "<div>\n",
       "<style scoped>\n",
       "    .dataframe tbody tr th:only-of-type {\n",
       "        vertical-align: middle;\n",
       "    }\n",
       "\n",
       "    .dataframe tbody tr th {\n",
       "        vertical-align: top;\n",
       "    }\n",
       "\n",
       "    .dataframe thead th {\n",
       "        text-align: right;\n",
       "    }\n",
       "</style>\n",
       "<table border=\"1\" class=\"dataframe\">\n",
       "  <thead>\n",
       "    <tr style=\"text-align: right;\">\n",
       "      <th></th>\n",
       "      <th>x_test</th>\n",
       "      <th>y_test</th>\n",
       "      <th>predicted_y</th>\n",
       "    </tr>\n",
       "  </thead>\n",
       "  <tbody>\n",
       "    <tr>\n",
       "      <th>0</th>\n",
       "      <td>21.2790</td>\n",
       "      <td>17.92900</td>\n",
       "      <td>22.202041</td>\n",
       "    </tr>\n",
       "    <tr>\n",
       "      <th>1</th>\n",
       "      <td>5.4069</td>\n",
       "      <td>0.55657</td>\n",
       "      <td>2.404578</td>\n",
       "    </tr>\n",
       "    <tr>\n",
       "      <th>2</th>\n",
       "      <td>5.3054</td>\n",
       "      <td>1.98690</td>\n",
       "      <td>2.277976</td>\n",
       "    </tr>\n",
       "    <tr>\n",
       "      <th>3</th>\n",
       "      <td>6.4296</td>\n",
       "      <td>3.65180</td>\n",
       "      <td>3.680204</td>\n",
       "    </tr>\n",
       "    <tr>\n",
       "      <th>4</th>\n",
       "      <td>5.1884</td>\n",
       "      <td>0.20421</td>\n",
       "      <td>2.132040</td>\n",
       "    </tr>\n",
       "    <tr>\n",
       "      <th>5</th>\n",
       "      <td>9.7687</td>\n",
       "      <td>7.54350</td>\n",
       "      <td>7.845104</td>\n",
       "    </tr>\n",
       "    <tr>\n",
       "      <th>6</th>\n",
       "      <td>18.9590</td>\n",
       "      <td>17.05400</td>\n",
       "      <td>19.308277</td>\n",
       "    </tr>\n",
       "    <tr>\n",
       "      <th>7</th>\n",
       "      <td>11.7080</td>\n",
       "      <td>5.38540</td>\n",
       "      <td>10.264016</td>\n",
       "    </tr>\n",
       "    <tr>\n",
       "      <th>8</th>\n",
       "      <td>5.7107</td>\n",
       "      <td>3.25220</td>\n",
       "      <td>2.783512</td>\n",
       "    </tr>\n",
       "    <tr>\n",
       "      <th>9</th>\n",
       "      <td>6.1101</td>\n",
       "      <td>17.59200</td>\n",
       "      <td>3.281688</td>\n",
       "    </tr>\n",
       "    <tr>\n",
       "      <th>10</th>\n",
       "      <td>6.5894</td>\n",
       "      <td>5.99660</td>\n",
       "      <td>3.879525</td>\n",
       "    </tr>\n",
       "    <tr>\n",
       "      <th>11</th>\n",
       "      <td>6.5479</td>\n",
       "      <td>0.29678</td>\n",
       "      <td>3.827761</td>\n",
       "    </tr>\n",
       "    <tr>\n",
       "      <th>12</th>\n",
       "      <td>5.8014</td>\n",
       "      <td>1.84400</td>\n",
       "      <td>2.896643</td>\n",
       "    </tr>\n",
       "    <tr>\n",
       "      <th>13</th>\n",
       "      <td>12.8280</td>\n",
       "      <td>13.50100</td>\n",
       "      <td>11.661006</td>\n",
       "    </tr>\n",
       "    <tr>\n",
       "      <th>14</th>\n",
       "      <td>7.8247</td>\n",
       "      <td>6.73180</td>\n",
       "      <td>5.420329</td>\n",
       "    </tr>\n",
       "    <tr>\n",
       "      <th>15</th>\n",
       "      <td>5.8598</td>\n",
       "      <td>6.82330</td>\n",
       "      <td>2.969486</td>\n",
       "    </tr>\n",
       "    <tr>\n",
       "      <th>16</th>\n",
       "      <td>5.4901</td>\n",
       "      <td>4.26300</td>\n",
       "      <td>2.508355</td>\n",
       "    </tr>\n",
       "    <tr>\n",
       "      <th>17</th>\n",
       "      <td>5.7340</td>\n",
       "      <td>3.15510</td>\n",
       "      <td>2.812574</td>\n",
       "    </tr>\n",
       "    <tr>\n",
       "      <th>18</th>\n",
       "      <td>5.0594</td>\n",
       "      <td>2.82140</td>\n",
       "      <td>1.971137</td>\n",
       "    </tr>\n",
       "    <tr>\n",
       "      <th>19</th>\n",
       "      <td>7.2259</td>\n",
       "      <td>3.34110</td>\n",
       "      <td>4.673439</td>\n",
       "    </tr>\n",
       "  </tbody>\n",
       "</table>\n",
       "</div>"
      ],
      "text/plain": [
       "     x_test    y_test  predicted_y\n",
       "0   21.2790  17.92900    22.202041\n",
       "1    5.4069   0.55657     2.404578\n",
       "2    5.3054   1.98690     2.277976\n",
       "3    6.4296   3.65180     3.680204\n",
       "4    5.1884   0.20421     2.132040\n",
       "5    9.7687   7.54350     7.845104\n",
       "6   18.9590  17.05400    19.308277\n",
       "7   11.7080   5.38540    10.264016\n",
       "8    5.7107   3.25220     2.783512\n",
       "9    6.1101  17.59200     3.281688\n",
       "10   6.5894   5.99660     3.879525\n",
       "11   6.5479   0.29678     3.827761\n",
       "12   5.8014   1.84400     2.896643\n",
       "13  12.8280  13.50100    11.661006\n",
       "14   7.8247   6.73180     5.420329\n",
       "15   5.8598   6.82330     2.969486\n",
       "16   5.4901   4.26300     2.508355\n",
       "17   5.7340   3.15510     2.812574\n",
       "18   5.0594   2.82140     1.971137\n",
       "19   7.2259   3.34110     4.673439"
      ]
     },
     "execution_count": 65,
     "metadata": {},
     "output_type": "execute_result"
    }
   ],
   "source": [
    "predicted_y = np.dot(w, x_test) + b \n",
    "\n",
    "predicted_data = pd.DataFrame({\n",
    "    \"x_test\": x_test, \n",
    "    \"y_test\": y_test, \n",
    "    \"predicted_y\": predicted_y\n",
    "})   \n",
    "predicted_data.head(25) "
   ]
  },
  {
   "cell_type": "markdown",
   "id": "6c720927-0ff3-42c9-9cdc-fc306c18b1a4",
   "metadata": {},
   "source": [
    "#### Visualize train and test sets and the predicted linear regression model"
   ]
  },
  {
   "cell_type": "code",
   "execution_count": 67,
   "id": "9f8c8e43-f67a-4d94-9234-0a95ad2245f3",
   "metadata": {},
   "outputs": [
    {
     "data": {
      "image/png": "[encoded data removed]",
      "text/plain": [
       "<Figure size 640x480 with 1 Axes>"
      ]
     },
     "metadata": {},
     "output_type": "display_data"
    }
   ],
   "source": [
    "plt.plot(x_test, predicted_y, color='blue')\n",
    "plt.scatter(x_train, y_train, marker='o', color='green', label='Training data')\n",
    "plt.scatter(x_test, y_test, marker='o', color='red', label='Test data')\n",
    "plt.title(\"Profits vs. Population per city\")\n",
    "plt.ylabel(\"Profit in $10000\")\n",
    "plt.xlabel(\"Population of city in 10000s\")\n",
    "plt.legend()\n",
    "plt.show()"
   ]
  },
  {
   "cell_type": "code",
   "execution_count": null,
   "id": "de1bcec1-a941-4eda-b532-97b6040d9cce",
   "metadata": {},
   "outputs": [],
   "source": []
  }
 ],
 "metadata": {
  "kernelspec": {
   "display_name": "Python 3 (ipykernel)",
   "language": "python",
   "name": "python3"
  },
  "language_info": {
   "codemirror_mode": {
    "name": "ipython",
    "version": 3
   },
   "file_extension": ".py",
   "mimetype": "text/x-python",
   "name": "python",
   "nbconvert_exporter": "python",
   "pygments_lexer": "ipython3",
   "version": "3.10.0"
  }
 },
 "nbformat": 4,
 "nbformat_minor": 5
}
